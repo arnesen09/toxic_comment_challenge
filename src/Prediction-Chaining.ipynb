{
 "cells": [
  {
   "cell_type": "markdown",
   "metadata": {},
   "source": [
    "#### 1. Load the data"
   ]
  },
  {
   "cell_type": "code",
   "execution_count": 1,
   "metadata": {},
   "outputs": [
    {
     "name": "stdout",
     "output_type": "stream",
     "text": [
      "D:\\Analytics\\Kaggle\\toxic_comment_challenge\n",
      "(95851, 8)\n",
      "(226998, 2)\n"
     ]
    }
   ],
   "source": [
    "import pandas as pd\n",
    "import os\n",
    "\n",
    "os.chdir('D://Analytics/Kaggle/toxic_comment_challenge/')\n",
    "print(os.getcwd())\n",
    "\n",
    "dev = pd.read_csv('data/raw/train.csv')\n",
    "val = pd.read_csv('data/raw/test.csv')\n",
    "print(dev.shape)\n",
    "print(val.shape)"
   ]
  },
  {
   "cell_type": "code",
   "execution_count": 2,
   "metadata": {},
   "outputs": [
    {
     "name": "stdout",
     "output_type": "stream",
     "text": [
      "toxic            9237\n",
      "severe_toxic      965\n",
      "obscene          5109\n",
      "threat            305\n",
      "insult           4765\n",
      "identity_hate     814\n",
      "dtype: int64\n"
     ]
    }
   ],
   "source": [
    "# Identifying the target columns\n",
    "y_cols = [c for c in dev.columns if c not in ['id','comment_text']]\n",
    "y_vals = dev[y_cols].as_matrix()\n",
    "\n",
    "# Flagging the validation ids\n",
    "vid = val['id'].values\n",
    "\n",
    "# Number of rows in the dev sample\n",
    "nrows = dev.shape[0]\n",
    "\n",
    "print(dev[y_cols].sum())"
   ]
  },
  {
   "cell_type": "markdown",
   "metadata": {},
   "source": [
    "#### 2. EDA"
   ]
  },
  {
   "cell_type": "code",
   "execution_count": 5,
   "metadata": {},
   "outputs": [
    {
     "data": {
      "image/png": "[encoded data removed]",
      "text/plain": [
       "<matplotlib.figure.Figure at 0x1edd51e5710>"
      ]
     },
     "metadata": {},
     "output_type": "display_data"
    }
   ],
   "source": [
    "import seaborn as sns\n",
    "from matplotlib import pyplot as plt\n",
    "%matplotlib inline\n",
    "\n",
    "# Getting the length of each comment in the dev sample\n",
    "dev['char_length'] = dev['comment_text'].str.len()\n",
    "\n",
    "# Visualizing the distribution\n",
    "sns.set()\n",
    "dev['char_length'].hist()\n",
    "plt.show()"
   ]
  },
  {
   "cell_type": "markdown",
   "metadata": {},
   "source": [
    "In the dev sample, most of the comments are 1000 characters or under. The maximum comment length is 5000 characters."
   ]
  },
  {
   "cell_type": "code",
   "execution_count": 6,
   "metadata": {},
   "outputs": [
    {
     "data": {
      "image/png": "[encoded data removed]",
      "text/plain": [
       "<matplotlib.figure.Figure at 0x1edd52d7978>"
      ]
     },
     "metadata": {},
     "output_type": "display_data"
    }
   ],
   "source": [
    "# Getting the length of each comment in the val sample\n",
    "val['char_length'] = val['comment_text'].str.len()\n",
    "\n",
    "# Visualizing the distribution\n",
    "sns.set()\n",
    "val['char_length'].hist()\n",
    "plt.show()"
   ]
  },
  {
   "cell_type": "markdown",
   "metadata": {},
   "source": [
    "The validation sample has comments with a lot more characters. Probably, the comments in the dev sample were truncated to 5000 characters. So, we'll do the same for the validation sample."
   ]
  },
  {
   "cell_type": "code",
   "execution_count": 8,
   "metadata": {},
   "outputs": [
    {
     "data": {
      "image/png": "[encoded data removed]",
      "text/plain": [
       "<matplotlib.figure.Figure at 0x1edd559ab70>"
      ]
     },
     "metadata": {},
     "output_type": "display_data"
    }
   ],
   "source": [
    "# Truncate the validation sample to max length of 5000 characters to match the dev sample\n",
    "val = val.fillna(\"unknown\")\n",
    "val['comment_text'] = val['comment_text'].apply(lambda x: x[:5000])\n",
    "val['char_length'] = val['comment_text'].str.len()\n",
    "\n",
    "# Visualizing the distribution\n",
    "sns.set()\n",
    "val['char_length'].hist()\n",
    "plt.show()"
   ]
  },
  {
   "cell_type": "markdown",
   "metadata": {},
   "source": [
    "Now we can see the distribution of comment length are roughly the same between the development and validation samples."
   ]
  },
  {
   "cell_type": "markdown",
   "metadata": {},
   "source": [
    "#### 3. Data prep"
   ]
  },
  {
   "cell_type": "code",
   "execution_count": 27,
   "metadata": {},
   "outputs": [
    {
     "name": "stdout",
     "output_type": "stream",
     "text": [
      "(322849,)\n"
     ]
    }
   ],
   "source": [
    "# Concatenating the dev and val datasets\n",
    "df_txt = pd.concat([dev['comment_text'], val['comment_text']], axis=0)\n",
    "print(df_txt.shape)"
   ]
  },
  {
   "cell_type": "code",
   "execution_count": 10,
   "metadata": {},
   "outputs": [
    {
     "name": "stdout",
     "output_type": "stream",
     "text": [
      "(322849, 50000)\n"
     ]
    }
   ],
   "source": [
    "from sklearn.feature_extraction.text import TfidfVectorizer\n",
    "\n",
    "# Convert the text to Tfidf format\n",
    "tfidf = TfidfVectorizer(analyzer='char', ngram_range=(1,4), max_features=50000, min_df=3)\n",
    "data = tfidf.fit_transform(df_txt)\n",
    "print(data.shape)"
   ]
  },
  {
   "cell_type": "code",
   "execution_count": 25,
   "metadata": {
    "collapsed": true
   },
   "outputs": [],
   "source": [
    "from sklearn.model_selection import train_test_split\n",
    "\n",
    "x_train, x_test, y_train, y_test = train_test_split(data[:nrows], y_vals, test_size=.3, random_state=52)"
   ]
  },
  {
   "cell_type": "markdown",
   "metadata": {},
   "source": [
    "#### 4. Train the models"
   ]
  },
  {
   "cell_type": "markdown",
   "metadata": {},
   "source": [
    "We will use a prediction chaining technique, where we feed the prior model's predictions into the current model. For example, we take the predictions for the toxic comments and feed them into the severe toxic model. Toxic comments are highly correlated with severe toxic, so by chaining the predictions it may help to better differentiate between these two types of comments."
   ]
  },
  {
   "cell_type": "code",
   "execution_count": 26,
   "metadata": {},
   "outputs": [
    {
     "name": "stdout",
     "output_type": "stream",
     "text": [
      "Fitting toxic\n",
      "[0]\tvalidation_0-logloss:0.620265\tvalidation_1-logloss:0.620885\n",
      "Multiple eval metrics have been passed: 'validation_1-logloss' will be used for early stopping.\n",
      "\n",
      "Will train until validation_1-logloss hasn't improved in 50 rounds.\n",
      "[10]\tvalidation_0-logloss:0.304907\tvalidation_1-logloss:0.309751\n",
      "[20]\tvalidation_0-logloss:0.224344\tvalidation_1-logloss:0.231468\n",
      "[30]\tvalidation_0-logloss:0.194366\tvalidation_1-logloss:0.202579\n",
      "[40]\tvalidation_0-logloss:0.178089\tvalidation_1-logloss:0.18756\n",
      "[50]\tvalidation_0-logloss:0.167586\tvalidation_1-logloss:0.177914\n",
      "[60]\tvalidation_0-logloss:0.159217\tvalidation_1-logloss:0.17049\n",
      "[70]\tvalidation_0-logloss:0.152554\tvalidation_1-logloss:0.164971\n",
      "[80]\tvalidation_0-logloss:0.1469\tvalidation_1-logloss:0.160301\n",
      "[90]\tvalidation_0-logloss:0.142058\tvalidation_1-logloss:0.156404\n",
      "[100]\tvalidation_0-logloss:0.137907\tvalidation_1-logloss:0.153185\n",
      "[110]\tvalidation_0-logloss:0.13399\tvalidation_1-logloss:0.15015\n",
      "[120]\tvalidation_0-logloss:0.130662\tvalidation_1-logloss:0.147516\n",
      "[130]\tvalidation_0-logloss:0.127794\tvalidation_1-logloss:0.145286\n",
      "[140]\tvalidation_0-logloss:0.124801\tvalidation_1-logloss:0.143171\n",
      "[150]\tvalidation_0-logloss:0.122186\tvalidation_1-logloss:0.141343\n",
      "[160]\tvalidation_0-logloss:0.119836\tvalidation_1-logloss:0.13963\n",
      "[170]\tvalidation_0-logloss:0.117732\tvalidation_1-logloss:0.138273\n",
      "[180]\tvalidation_0-logloss:0.115597\tvalidation_1-logloss:0.136824\n",
      "[190]\tvalidation_0-logloss:0.113636\tvalidation_1-logloss:0.135348\n",
      "[200]\tvalidation_0-logloss:0.111835\tvalidation_1-logloss:0.134398\n",
      "[210]\tvalidation_0-logloss:0.110124\tvalidation_1-logloss:0.133157\n",
      "[220]\tvalidation_0-logloss:0.108421\tvalidation_1-logloss:0.132185\n",
      "[230]\tvalidation_0-logloss:0.106791\tvalidation_1-logloss:0.131198\n",
      "[240]\tvalidation_0-logloss:0.105345\tvalidation_1-logloss:0.130438\n",
      "[250]\tvalidation_0-logloss:0.103965\tvalidation_1-logloss:0.129536\n",
      "[260]\tvalidation_0-logloss:0.102615\tvalidation_1-logloss:0.128663\n",
      "[270]\tvalidation_0-logloss:0.101374\tvalidation_1-logloss:0.127994\n",
      "[280]\tvalidation_0-logloss:0.100127\tvalidation_1-logloss:0.127212\n",
      "[290]\tvalidation_0-logloss:0.09882\tvalidation_1-logloss:0.126454\n",
      "[300]\tvalidation_0-logloss:0.097679\tvalidation_1-logloss:0.125787\n",
      "[310]\tvalidation_0-logloss:0.09661\tvalidation_1-logloss:0.125291\n",
      "[320]\tvalidation_0-logloss:0.09558\tvalidation_1-logloss:0.124713\n",
      "[330]\tvalidation_0-logloss:0.094616\tvalidation_1-logloss:0.124178\n",
      "[340]\tvalidation_0-logloss:0.09356\tvalidation_1-logloss:0.123496\n",
      "[350]\tvalidation_0-logloss:0.092465\tvalidation_1-logloss:0.122972\n",
      "[360]\tvalidation_0-logloss:0.091548\tvalidation_1-logloss:0.122587\n",
      "[370]\tvalidation_0-logloss:0.090701\tvalidation_1-logloss:0.122151\n",
      "[380]\tvalidation_0-logloss:0.089744\tvalidation_1-logloss:0.121691\n",
      "[390]\tvalidation_0-logloss:0.088976\tvalidation_1-logloss:0.12128\n",
      "[400]\tvalidation_0-logloss:0.088101\tvalidation_1-logloss:0.120982\n",
      "[410]\tvalidation_0-logloss:0.087273\tvalidation_1-logloss:0.120641\n",
      "[420]\tvalidation_0-logloss:0.086433\tvalidation_1-logloss:0.120253\n",
      "[430]\tvalidation_0-logloss:0.085596\tvalidation_1-logloss:0.119896\n",
      "[440]\tvalidation_0-logloss:0.08483\tvalidation_1-logloss:0.11961\n",
      "[450]\tvalidation_0-logloss:0.084032\tvalidation_1-logloss:0.119248\n",
      "[460]\tvalidation_0-logloss:0.083243\tvalidation_1-logloss:0.118912\n",
      "[470]\tvalidation_0-logloss:0.082465\tvalidation_1-logloss:0.118655\n",
      "[480]\tvalidation_0-logloss:0.081775\tvalidation_1-logloss:0.118415\n",
      "[490]\tvalidation_0-logloss:0.08113\tvalidation_1-logloss:0.118126\n",
      "[500]\tvalidation_0-logloss:0.080428\tvalidation_1-logloss:0.117925\n",
      "[510]\tvalidation_0-logloss:0.079808\tvalidation_1-logloss:0.117717\n",
      "[520]\tvalidation_0-logloss:0.079143\tvalidation_1-logloss:0.117435\n",
      "[530]\tvalidation_0-logloss:0.078479\tvalidation_1-logloss:0.117287\n",
      "[540]\tvalidation_0-logloss:0.077843\tvalidation_1-logloss:0.116996\n",
      "[550]\tvalidation_0-logloss:0.077241\tvalidation_1-logloss:0.116774\n",
      "[560]\tvalidation_0-logloss:0.076692\tvalidation_1-logloss:0.116445\n",
      "[570]\tvalidation_0-logloss:0.07602\tvalidation_1-logloss:0.116261\n",
      "[580]\tvalidation_0-logloss:0.075438\tvalidation_1-logloss:0.116045\n",
      "[590]\tvalidation_0-logloss:0.074815\tvalidation_1-logloss:0.115845\n",
      "[600]\tvalidation_0-logloss:0.074201\tvalidation_1-logloss:0.115738\n",
      "[610]\tvalidation_0-logloss:0.07369\tvalidation_1-logloss:0.115484\n",
      "[620]\tvalidation_0-logloss:0.073106\tvalidation_1-logloss:0.115359\n",
      "[630]\tvalidation_0-logloss:0.072539\tvalidation_1-logloss:0.115233\n",
      "[640]\tvalidation_0-logloss:0.072019\tvalidation_1-logloss:0.115029\n",
      "[650]\tvalidation_0-logloss:0.07149\tvalidation_1-logloss:0.114845\n",
      "[660]\tvalidation_0-logloss:0.070945\tvalidation_1-logloss:0.114716\n",
      "[670]\tvalidation_0-logloss:0.070379\tvalidation_1-logloss:0.114532\n",
      "[680]\tvalidation_0-logloss:0.069862\tvalidation_1-logloss:0.114445\n",
      "[690]\tvalidation_0-logloss:0.069372\tvalidation_1-logloss:0.114314\n",
      "[700]\tvalidation_0-logloss:0.068874\tvalidation_1-logloss:0.114253\n",
      "[710]\tvalidation_0-logloss:0.068399\tvalidation_1-logloss:0.114174\n",
      "[720]\tvalidation_0-logloss:0.068005\tvalidation_1-logloss:0.113998\n",
      "[730]\tvalidation_0-logloss:0.067523\tvalidation_1-logloss:0.113814\n",
      "[740]\tvalidation_0-logloss:0.067097\tvalidation_1-logloss:0.113695\n",
      "[750]\tvalidation_0-logloss:0.066618\tvalidation_1-logloss:0.113586\n",
      "[760]\tvalidation_0-logloss:0.066181\tvalidation_1-logloss:0.113443\n",
      "[770]\tvalidation_0-logloss:0.065766\tvalidation_1-logloss:0.113326\n",
      "[780]\tvalidation_0-logloss:0.065331\tvalidation_1-logloss:0.1132\n",
      "[790]\tvalidation_0-logloss:0.064898\tvalidation_1-logloss:0.113069\n",
      "[800]\tvalidation_0-logloss:0.064408\tvalidation_1-logloss:0.112946\n",
      "[810]\tvalidation_0-logloss:0.064005\tvalidation_1-logloss:0.112856\n",
      "[820]\tvalidation_0-logloss:0.063536\tvalidation_1-logloss:0.112828\n",
      "[830]\tvalidation_0-logloss:0.063144\tvalidation_1-logloss:0.112779\n",
      "[840]\tvalidation_0-logloss:0.06275\tvalidation_1-logloss:0.112673\n",
      "[850]\tvalidation_0-logloss:0.062296\tvalidation_1-logloss:0.112589\n",
      "[860]\tvalidation_0-logloss:0.061853\tvalidation_1-logloss:0.112475\n",
      "[870]\tvalidation_0-logloss:0.061463\tvalidation_1-logloss:0.112355\n",
      "[880]\tvalidation_0-logloss:0.061005\tvalidation_1-logloss:0.112329\n",
      "[890]\tvalidation_0-logloss:0.060564\tvalidation_1-logloss:0.112251\n",
      "[900]\tvalidation_0-logloss:0.060162\tvalidation_1-logloss:0.112194\n",
      "[910]\tvalidation_0-logloss:0.059758\tvalidation_1-logloss:0.112094\n",
      "[920]\tvalidation_0-logloss:0.059382\tvalidation_1-logloss:0.11212\n",
      "[930]\tvalidation_0-logloss:0.059023\tvalidation_1-logloss:0.112067\n",
      "[940]\tvalidation_0-logloss:0.058647\tvalidation_1-logloss:0.112034\n",
      "[950]\tvalidation_0-logloss:0.058285\tvalidation_1-logloss:0.111967\n",
      "[960]\tvalidation_0-logloss:0.05791\tvalidation_1-logloss:0.111805\n",
      "[970]\tvalidation_0-logloss:0.057471\tvalidation_1-logloss:0.111807\n",
      "[980]\tvalidation_0-logloss:0.05713\tvalidation_1-logloss:0.111739\n",
      "[990]\tvalidation_0-logloss:0.056815\tvalidation_1-logloss:0.111694\n",
      "[1000]\tvalidation_0-logloss:0.056458\tvalidation_1-logloss:0.11161\n",
      "[1010]\tvalidation_0-logloss:0.056146\tvalidation_1-logloss:0.111603\n",
      "[1020]\tvalidation_0-logloss:0.055755\tvalidation_1-logloss:0.111512\n",
      "[1030]\tvalidation_0-logloss:0.055382\tvalidation_1-logloss:0.111385\n",
      "[1040]\tvalidation_0-logloss:0.055021\tvalidation_1-logloss:0.111377\n",
      "[1050]\tvalidation_0-logloss:0.05472\tvalidation_1-logloss:0.111331\n",
      "[1060]\tvalidation_0-logloss:0.054415\tvalidation_1-logloss:0.111323\n",
      "[1070]\tvalidation_0-logloss:0.054102\tvalidation_1-logloss:0.111279\n",
      "[1080]\tvalidation_0-logloss:0.053787\tvalidation_1-logloss:0.111207\n",
      "[1090]\tvalidation_0-logloss:0.053465\tvalidation_1-logloss:0.111153\n",
      "[1100]\tvalidation_0-logloss:0.053085\tvalidation_1-logloss:0.111065\n",
      "[1110]\tvalidation_0-logloss:0.052721\tvalidation_1-logloss:0.111024\n",
      "[1120]\tvalidation_0-logloss:0.05244\tvalidation_1-logloss:0.110974\n",
      "[1130]\tvalidation_0-logloss:0.052156\tvalidation_1-logloss:0.110947\n",
      "[1140]\tvalidation_0-logloss:0.051848\tvalidation_1-logloss:0.110896\n",
      "[1150]\tvalidation_0-logloss:0.051465\tvalidation_1-logloss:0.110875\n",
      "[1160]\tvalidation_0-logloss:0.051155\tvalidation_1-logloss:0.110815\n",
      "[1170]\tvalidation_0-logloss:0.050906\tvalidation_1-logloss:0.110827\n",
      "[1180]\tvalidation_0-logloss:0.050636\tvalidation_1-logloss:0.110727\n",
      "[1190]\tvalidation_0-logloss:0.050361\tvalidation_1-logloss:0.110691\n",
      "[1200]\tvalidation_0-logloss:0.050083\tvalidation_1-logloss:0.110703\n",
      "[1210]\tvalidation_0-logloss:0.049817\tvalidation_1-logloss:0.110714\n"
     ]
    },
    {
     "name": "stdout",
     "output_type": "stream",
     "text": [
      "[1220]\tvalidation_0-logloss:0.049524\tvalidation_1-logloss:0.110708\n",
      "[1230]\tvalidation_0-logloss:0.049235\tvalidation_1-logloss:0.110697\n",
      "[1240]\tvalidation_0-logloss:0.048957\tvalidation_1-logloss:0.110626\n",
      "[1250]\tvalidation_0-logloss:0.048689\tvalidation_1-logloss:0.110604\n",
      "[1260]\tvalidation_0-logloss:0.048429\tvalidation_1-logloss:0.110629\n",
      "[1270]\tvalidation_0-logloss:0.048163\tvalidation_1-logloss:0.110663\n",
      "[1280]\tvalidation_0-logloss:0.047931\tvalidation_1-logloss:0.110599\n",
      "[1290]\tvalidation_0-logloss:0.047651\tvalidation_1-logloss:0.110551\n",
      "[1300]\tvalidation_0-logloss:0.047375\tvalidation_1-logloss:0.110484\n",
      "[1310]\tvalidation_0-logloss:0.047141\tvalidation_1-logloss:0.11048\n",
      "[1320]\tvalidation_0-logloss:0.046826\tvalidation_1-logloss:0.110492\n",
      "[1330]\tvalidation_0-logloss:0.0466\tvalidation_1-logloss:0.110456\n",
      "[1340]\tvalidation_0-logloss:0.046289\tvalidation_1-logloss:0.110429\n",
      "[1350]\tvalidation_0-logloss:0.046045\tvalidation_1-logloss:0.110412\n",
      "[1360]\tvalidation_0-logloss:0.04585\tvalidation_1-logloss:0.110377\n",
      "[1370]\tvalidation_0-logloss:0.045583\tvalidation_1-logloss:0.110398\n",
      "[1380]\tvalidation_0-logloss:0.045313\tvalidation_1-logloss:0.110424\n",
      "[1390]\tvalidation_0-logloss:0.045018\tvalidation_1-logloss:0.110381\n",
      "[1400]\tvalidation_0-logloss:0.044788\tvalidation_1-logloss:0.110371\n",
      "[1410]\tvalidation_0-logloss:0.044519\tvalidation_1-logloss:0.110364\n",
      "[1420]\tvalidation_0-logloss:0.044214\tvalidation_1-logloss:0.110362\n",
      "[1430]\tvalidation_0-logloss:0.043976\tvalidation_1-logloss:0.110337\n",
      "[1440]\tvalidation_0-logloss:0.043737\tvalidation_1-logloss:0.110323\n",
      "[1450]\tvalidation_0-logloss:0.043461\tvalidation_1-logloss:0.110323\n",
      "[1460]\tvalidation_0-logloss:0.043212\tvalidation_1-logloss:0.110301\n",
      "[1470]\tvalidation_0-logloss:0.042996\tvalidation_1-logloss:0.110332\n",
      "[1480]\tvalidation_0-logloss:0.042789\tvalidation_1-logloss:0.110335\n",
      "[1490]\tvalidation_0-logloss:0.042549\tvalidation_1-logloss:0.110411\n",
      "[1500]\tvalidation_0-logloss:0.042313\tvalidation_1-logloss:0.110419\n",
      "Stopping. Best iteration:\n",
      "[1457]\tvalidation_0-logloss:0.043286\tvalidation_1-logloss:0.110288\n",
      "\n",
      "Fitting severe_toxic\n",
      "[0]\tvalidation_0-logloss:0.600709\tvalidation_1-logloss:0.600894\n",
      "Multiple eval metrics have been passed: 'validation_1-logloss' will be used for early stopping.\n",
      "\n",
      "Will train until validation_1-logloss hasn't improved in 50 rounds.\n",
      "[10]\tvalidation_0-logloss:0.191129\tvalidation_1-logloss:0.192696\n",
      "[20]\tvalidation_0-logloss:0.079152\tvalidation_1-logloss:0.081805\n",
      "[30]\tvalidation_0-logloss:0.041329\tvalidation_1-logloss:0.044975\n",
      "[40]\tvalidation_0-logloss:0.027565\tvalidation_1-logloss:0.031791\n",
      "[50]\tvalidation_0-logloss:0.022329\tvalidation_1-logloss:0.027168\n",
      "[60]\tvalidation_0-logloss:0.020133\tvalidation_1-logloss:0.025451\n",
      "[70]\tvalidation_0-logloss:0.01909\tvalidation_1-logloss:0.024889\n",
      "[80]\tvalidation_0-logloss:0.018405\tvalidation_1-logloss:0.024751\n",
      "[90]\tvalidation_0-logloss:0.017658\tvalidation_1-logloss:0.024773\n",
      "[100]\tvalidation_0-logloss:0.017035\tvalidation_1-logloss:0.024793\n",
      "[110]\tvalidation_0-logloss:0.016434\tvalidation_1-logloss:0.024726\n",
      "[120]\tvalidation_0-logloss:0.015959\tvalidation_1-logloss:0.024762\n",
      "[130]\tvalidation_0-logloss:0.015506\tvalidation_1-logloss:0.024857\n",
      "[140]\tvalidation_0-logloss:0.015128\tvalidation_1-logloss:0.02492\n",
      "[150]\tvalidation_0-logloss:0.0147\tvalidation_1-logloss:0.024939\n",
      "[160]\tvalidation_0-logloss:0.014369\tvalidation_1-logloss:0.024992\n",
      "Stopping. Best iteration:\n",
      "[112]\tvalidation_0-logloss:0.016314\tvalidation_1-logloss:0.024709\n",
      "\n",
      "Fitting obscene\n",
      "[0]\tvalidation_0-logloss:0.604189\tvalidation_1-logloss:0.60394\n",
      "Multiple eval metrics have been passed: 'validation_1-logloss' will be used for early stopping.\n",
      "\n",
      "Will train until validation_1-logloss hasn't improved in 50 rounds.\n",
      "[10]\tvalidation_0-logloss:0.210198\tvalidation_1-logloss:0.211074\n",
      "[20]\tvalidation_0-logloss:0.102853\tvalidation_1-logloss:0.105183\n",
      "[30]\tvalidation_0-logloss:0.066758\tvalidation_1-logloss:0.070695\n",
      "[40]\tvalidation_0-logloss:0.05363\tvalidation_1-logloss:0.058777\n",
      "[50]\tvalidation_0-logloss:0.048448\tvalidation_1-logloss:0.054593\n",
      "[60]\tvalidation_0-logloss:0.04597\tvalidation_1-logloss:0.05297\n",
      "[70]\tvalidation_0-logloss:0.044321\tvalidation_1-logloss:0.05238\n",
      "[80]\tvalidation_0-logloss:0.043086\tvalidation_1-logloss:0.052061\n",
      "[90]\tvalidation_0-logloss:0.042039\tvalidation_1-logloss:0.051778\n",
      "[100]\tvalidation_0-logloss:0.041104\tvalidation_1-logloss:0.051552\n",
      "[110]\tvalidation_0-logloss:0.040274\tvalidation_1-logloss:0.051355\n",
      "[120]\tvalidation_0-logloss:0.039533\tvalidation_1-logloss:0.051235\n",
      "[130]\tvalidation_0-logloss:0.038672\tvalidation_1-logloss:0.051077\n",
      "[140]\tvalidation_0-logloss:0.038061\tvalidation_1-logloss:0.050862\n",
      "[150]\tvalidation_0-logloss:0.037355\tvalidation_1-logloss:0.05076\n",
      "[160]\tvalidation_0-logloss:0.036681\tvalidation_1-logloss:0.050723\n",
      "[170]\tvalidation_0-logloss:0.036143\tvalidation_1-logloss:0.050597\n",
      "[180]\tvalidation_0-logloss:0.035582\tvalidation_1-logloss:0.050522\n",
      "[190]\tvalidation_0-logloss:0.035089\tvalidation_1-logloss:0.050469\n",
      "[200]\tvalidation_0-logloss:0.034538\tvalidation_1-logloss:0.050448\n",
      "[210]\tvalidation_0-logloss:0.034005\tvalidation_1-logloss:0.050455\n",
      "[220]\tvalidation_0-logloss:0.033536\tvalidation_1-logloss:0.050446\n",
      "[230]\tvalidation_0-logloss:0.033005\tvalidation_1-logloss:0.050423\n",
      "[240]\tvalidation_0-logloss:0.032524\tvalidation_1-logloss:0.050423\n",
      "[250]\tvalidation_0-logloss:0.032066\tvalidation_1-logloss:0.050398\n",
      "[260]\tvalidation_0-logloss:0.031613\tvalidation_1-logloss:0.050436\n",
      "[270]\tvalidation_0-logloss:0.031187\tvalidation_1-logloss:0.050512\n",
      "[280]\tvalidation_0-logloss:0.030789\tvalidation_1-logloss:0.050474\n",
      "[290]\tvalidation_0-logloss:0.030374\tvalidation_1-logloss:0.050495\n",
      "Stopping. Best iteration:\n",
      "[249]\tvalidation_0-logloss:0.032105\tvalidation_1-logloss:0.050376\n",
      "\n",
      "Fitting threat\n",
      "[0]\tvalidation_0-logloss:0.599158\tvalidation_1-logloss:0.59924\n",
      "Multiple eval metrics have been passed: 'validation_1-logloss' will be used for early stopping.\n",
      "\n",
      "Will train until validation_1-logloss hasn't improved in 50 rounds.\n",
      "[10]\tvalidation_0-logloss:0.182367\tvalidation_1-logloss:0.183095\n",
      "[20]\tvalidation_0-logloss:0.068278\tvalidation_1-logloss:0.069667\n",
      "[30]\tvalidation_0-logloss:0.02982\tvalidation_1-logloss:0.031854\n",
      "[40]\tvalidation_0-logloss:0.015937\tvalidation_1-logloss:0.018644\n",
      "[50]\tvalidation_0-logloss:0.010594\tvalidation_1-logloss:0.014071\n",
      "[60]\tvalidation_0-logloss:0.008327\tvalidation_1-logloss:0.012569\n",
      "[70]\tvalidation_0-logloss:0.00727\tvalidation_1-logloss:0.011915\n",
      "[80]\tvalidation_0-logloss:0.006512\tvalidation_1-logloss:0.011655\n",
      "[90]\tvalidation_0-logloss:0.005898\tvalidation_1-logloss:0.011467\n",
      "[100]\tvalidation_0-logloss:0.005421\tvalidation_1-logloss:0.011391\n",
      "[110]\tvalidation_0-logloss:0.005024\tvalidation_1-logloss:0.011266\n",
      "[120]\tvalidation_0-logloss:0.004704\tvalidation_1-logloss:0.011205\n",
      "[130]\tvalidation_0-logloss:0.004395\tvalidation_1-logloss:0.011192\n",
      "[140]\tvalidation_0-logloss:0.004128\tvalidation_1-logloss:0.011159\n",
      "[150]\tvalidation_0-logloss:0.003806\tvalidation_1-logloss:0.011132\n",
      "[160]\tvalidation_0-logloss:0.003544\tvalidation_1-logloss:0.011175\n",
      "[170]\tvalidation_0-logloss:0.003346\tvalidation_1-logloss:0.01118\n",
      "[180]\tvalidation_0-logloss:0.003147\tvalidation_1-logloss:0.011167\n",
      "[190]\tvalidation_0-logloss:0.00297\tvalidation_1-logloss:0.011185\n",
      "[200]\tvalidation_0-logloss:0.002822\tvalidation_1-logloss:0.011224\n",
      "Stopping. Best iteration:\n",
      "[150]\tvalidation_0-logloss:0.003806\tvalidation_1-logloss:0.011132\n",
      "\n",
      "Fitting insult\n",
      "[0]\tvalidation_0-logloss:0.605436\tvalidation_1-logloss:0.605614\n",
      "Multiple eval metrics have been passed: 'validation_1-logloss' will be used for early stopping.\n",
      "\n",
      "Will train until validation_1-logloss hasn't improved in 50 rounds.\n",
      "[10]\tvalidation_0-logloss:0.217149\tvalidation_1-logloss:0.220693\n",
      "[20]\tvalidation_0-logloss:0.111845\tvalidation_1-logloss:0.118778\n",
      "[30]\tvalidation_0-logloss:0.076506\tvalidation_1-logloss:0.086106\n",
      "[40]\tvalidation_0-logloss:0.063674\tvalidation_1-logloss:0.075143\n",
      "[50]\tvalidation_0-logloss:0.058635\tvalidation_1-logloss:0.071425\n",
      "[60]\tvalidation_0-logloss:0.056326\tvalidation_1-logloss:0.070261\n",
      "[70]\tvalidation_0-logloss:0.054944\tvalidation_1-logloss:0.069877\n",
      "[80]\tvalidation_0-logloss:0.053848\tvalidation_1-logloss:0.069713\n",
      "[90]\tvalidation_0-logloss:0.052828\tvalidation_1-logloss:0.069506\n",
      "[100]\tvalidation_0-logloss:0.05205\tvalidation_1-logloss:0.069413\n"
     ]
    },
    {
     "name": "stdout",
     "output_type": "stream",
     "text": [
      "[110]\tvalidation_0-logloss:0.051086\tvalidation_1-logloss:0.069247\n",
      "[120]\tvalidation_0-logloss:0.050268\tvalidation_1-logloss:0.069212\n",
      "[130]\tvalidation_0-logloss:0.04953\tvalidation_1-logloss:0.069184\n",
      "[140]\tvalidation_0-logloss:0.04885\tvalidation_1-logloss:0.069072\n",
      "[150]\tvalidation_0-logloss:0.048227\tvalidation_1-logloss:0.06899\n",
      "[160]\tvalidation_0-logloss:0.047561\tvalidation_1-logloss:0.069054\n",
      "[170]\tvalidation_0-logloss:0.046976\tvalidation_1-logloss:0.069078\n",
      "[180]\tvalidation_0-logloss:0.046453\tvalidation_1-logloss:0.069028\n",
      "[190]\tvalidation_0-logloss:0.045945\tvalidation_1-logloss:0.069114\n",
      "[200]\tvalidation_0-logloss:0.045377\tvalidation_1-logloss:0.06906\n",
      "Stopping. Best iteration:\n",
      "[151]\tvalidation_0-logloss:0.048167\tvalidation_1-logloss:0.06898\n",
      "\n",
      "Fitting identity_hate\n",
      "[0]\tvalidation_0-logloss:0.600453\tvalidation_1-logloss:0.600552\n",
      "Multiple eval metrics have been passed: 'validation_1-logloss' will be used for early stopping.\n",
      "\n",
      "Will train until validation_1-logloss hasn't improved in 50 rounds.\n",
      "[10]\tvalidation_0-logloss:0.189981\tvalidation_1-logloss:0.191126\n",
      "[20]\tvalidation_0-logloss:0.078106\tvalidation_1-logloss:0.08043\n",
      "[30]\tvalidation_0-logloss:0.040431\tvalidation_1-logloss:0.043788\n",
      "[40]\tvalidation_0-logloss:0.026684\tvalidation_1-logloss:0.031031\n",
      "[50]\tvalidation_0-logloss:0.021323\tvalidation_1-logloss:0.026536\n",
      "[60]\tvalidation_0-logloss:0.018868\tvalidation_1-logloss:0.024798\n",
      "[70]\tvalidation_0-logloss:0.01746\tvalidation_1-logloss:0.024083\n",
      "[80]\tvalidation_0-logloss:0.016339\tvalidation_1-logloss:0.023927\n",
      "[90]\tvalidation_0-logloss:0.015367\tvalidation_1-logloss:0.02363\n",
      "[100]\tvalidation_0-logloss:0.014525\tvalidation_1-logloss:0.023566\n",
      "[110]\tvalidation_0-logloss:0.013869\tvalidation_1-logloss:0.02349\n",
      "[120]\tvalidation_0-logloss:0.01324\tvalidation_1-logloss:0.023464\n",
      "[130]\tvalidation_0-logloss:0.012706\tvalidation_1-logloss:0.023446\n",
      "[140]\tvalidation_0-logloss:0.012259\tvalidation_1-logloss:0.023389\n",
      "[150]\tvalidation_0-logloss:0.011777\tvalidation_1-logloss:0.023273\n",
      "[160]\tvalidation_0-logloss:0.011363\tvalidation_1-logloss:0.023317\n",
      "[170]\tvalidation_0-logloss:0.010996\tvalidation_1-logloss:0.023319\n",
      "[180]\tvalidation_0-logloss:0.010631\tvalidation_1-logloss:0.023336\n",
      "[190]\tvalidation_0-logloss:0.010313\tvalidation_1-logloss:0.023343\n",
      "[200]\tvalidation_0-logloss:0.009987\tvalidation_1-logloss:0.023324\n",
      "Stopping. Best iteration:\n",
      "[152]\tvalidation_0-logloss:0.011684\tvalidation_1-logloss:0.023272\n",
      "\n"
     ]
    }
   ],
   "source": [
    "from xgboost import XGBClassifier\n",
    "import numpy as np\n",
    "from scipy.sparse import csr_matrix, hstack\n",
    "\n",
    "preds = np.zeros((val.shape[0], len(y_cols)))\n",
    "\n",
    "x_val = data[nrows:]\n",
    "\n",
    "for i, c in enumerate(y_cols):\n",
    "    print('Fitting %s' % c)\n",
    "    \n",
    "    # Initialize the model parameters\n",
    "    xgb = XGBClassifier(learning_rate=0.1,\n",
    "                        max_depth=3,\n",
    "                        n_estimators=6000,\n",
    "                        objective='binary:logistic',\n",
    "                        eval_metric='logloss',\n",
    "                        n_jobs=-1\n",
    "                        )\n",
    "\n",
    "    # Train the model\n",
    "    xgb.fit(x_train,\n",
    "            y_train[:,i],\n",
    "            verbose=10,\n",
    "            early_stopping_rounds=50,\n",
    "            eval_set=[(x_train, y_train[:,i]), (x_test, y_test[:,i])]\n",
    "            )\n",
    "    \n",
    "    # Best iteration\n",
    "    num_trees = xgb.get_booster().best_iteration\n",
    "    \n",
    "    # Predictions on training\n",
    "    y_train_prob = xgb.predict_proba(x_train, ntree_limit=num_trees)[:,1]\n",
    "    \n",
    "    # Predictions on test\n",
    "    y_test_prob = xgb.predict_proba(x_test, ntree_limit=num_trees)[:,1]\n",
    "    \n",
    "    # Predictions on validation\n",
    "    y_val_prob = xgb.predict_proba(x_val, ntree_limit=num_trees)[:,1]\n",
    "    \n",
    "    # Append final predictions\n",
    "    preds[:,i] = y_val_prob\n",
    "    \n",
    "    # Reshape training\n",
    "    x_train = hstack([csr_matrix(y_train_prob).T, x_train])\n",
    "    \n",
    "    # Reshape test\n",
    "    x_test = hstack([csr_matrix(y_test_prob).T, x_test])\n",
    "    \n",
    "    # Reshape val\n",
    "    x_val = hstack([csr_matrix(y_val_prob).T, x_val])"
   ]
  },
  {
   "cell_type": "markdown",
   "metadata": {},
   "source": [
    "#### 4. Create the submission files"
   ]
  },
  {
   "cell_type": "code",
   "execution_count": 28,
   "metadata": {},
   "outputs": [
    {
     "name": "stdout",
     "output_type": "stream",
     "text": [
      "(226998, 7)\n"
     ]
    }
   ],
   "source": [
    "submid = pd.DataFrame({'id': vid})\n",
    "submission = pd.concat([submid, pd.DataFrame(preds, columns=y_cols)], axis=1)\n",
    "submission.to_csv('data/submissions/xgb_chain.csv', index=False)\n",
    "print(submission.shape)"
   ]
  },
  {
   "cell_type": "code",
   "execution_count": 29,
   "metadata": {},
   "outputs": [
    {
     "name": "stdout",
     "output_type": "stream",
     "text": [
      "(226998, 7)\n"
     ]
    }
   ],
   "source": [
    "sub1 = pd.read_csv('data/submissions/wtd_avg_3.csv')\n",
    "sub3 = (sub1.as_matrix()[:,1:] * .1) + (submission.as_matrix()[:,1:] * .9)\n",
    "sub3 = pd.concat([submid, pd.DataFrame(sub3, columns=y_cols)], axis=1)\n",
    "sub3.to_csv('data/submissions/wtd_avg_4.csv', index=False)\n",
    "print(sub3.shape)"
   ]
  },
  {
   "cell_type": "code",
   "execution_count": null,
   "metadata": {
    "collapsed": true
   },
   "outputs": [],
   "source": []
  }
 ],
 "metadata": {
  "kernelspec": {
   "display_name": "Python 3",
   "language": "python",
   "name": "python3"
  },
  "language_info": {
   "codemirror_mode": {
    "name": "ipython",
    "version": 3
   },
   "file_extension": ".py",
   "mimetype": "text/x-python",
   "name": "python",
   "nbconvert_exporter": "python",
   "pygments_lexer": "ipython3",
   "version": "3.6.3"
  }
 },
 "nbformat": 4,
 "nbformat_minor": 2
}
